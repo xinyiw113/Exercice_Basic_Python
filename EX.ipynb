{
 "cells": [
  {
   "cell_type": "markdown",
   "metadata": {},
   "source": [
    "### Exercise"
   ]
  },
  {
   "cell_type": "markdown",
   "metadata": {},
   "source": [
    "### Exercise 1: Identify Suspicious Email Domains\n",
    "- Find the top 5 most frequent email domains in fraudulent transactions.\n",
    "- Write a function to flag transactions from less common domains.\n",
    "\n",
    "- **Topics:** String manipulation, Pandas DataFrames, Aggregation\n",
    "- **Resources:**\n",
    "  - [Pandas String Methods](https://pandas.pydata.org/docs/user_guide/text.html)\n",
    "  - [Regular Expressions in Python](https://docs.python.org/3/library/re.html)\n",
    "  - [Finding Frequent Elements in Pandas](https://towardsdatascience.com/finding-the-most-frequent-elements-in-a-pandas-dataframe-b29d01fe43cf)"
   ]
  },
  {
   "cell_type": "code",
   "execution_count": 1,
   "metadata": {},
   "outputs": [
    {
     "name": "stdout",
     "output_type": "stream",
     "text": [
      "DOMAIN\n",
      "TMA.COM        16451\n",
      "XOSOP.COM      15814\n",
      "VUHZRNB.COM    11544\n",
      "TCN.COM         4029\n",
      "NEKSXUK.NET     3918\n",
      "dtype: int64\n"
     ]
    },
    {
     "data": {
      "text/plain": [
       "0        high\n",
       "1         low\n",
       "2         low\n",
       "3         low\n",
       "4         low\n",
       "         ... \n",
       "94677     low\n",
       "94678    high\n",
       "94679     low\n",
       "94680     low\n",
       "94681     low\n",
       "Name: SECURITY, Length: 94682, dtype: object"
      ]
     },
     "execution_count": 1,
     "metadata": {},
     "output_type": "execute_result"
    }
   ],
   "source": [
    "import pandas as pd\n",
    "import re\n",
    "\n",
    "##Exercice 1 use the dateset CC_FRAUD.csv\n",
    "\n",
    "df_1 = pd.read_csv(\"CC_FRAUD.csv\")\n",
    "\n",
    "##Find the 5 most 5 email domain\n",
    "\n",
    "df_2 = df_1.groupby(\"DOMAIN\").size().sort_values(ascending=False).head(5)\n",
    "\n",
    "print(df_2)\n",
    "\n",
    "##Function to flag the less common domain\n",
    "\n",
    "def less_common(x):\n",
    "    if x!=\"TMA.COM\" and x!=\"XOSOP.COM\" and x!=\"VUHZRNB.COM\" and x!=\"TCN.COM\" and x!=\"NEKSXUK.NET\":\n",
    "        return \"high\"\n",
    "    else:\n",
    "        return \"low\"\n",
    "\n",
    "df_1[\"SECURITY\"] = df_1[\"DOMAIN\"].apply(lambda x:less_common(x))\n",
    "\n",
    "df_1[\"SECURITY\"]"
   ]
  },
  {
   "cell_type": "markdown",
   "metadata": {},
   "source": [
    "### Exercise 2: Regular Expressions for Data Validation\n",
    "- Validate that email addresses in the dataset are correctly formatted.\n",
    "- Identify and extract all numeric values appearing in descriptions.\n",
    "\n",
    "- **Topics:** Regex for validation, extracting numerical data, pattern matching\n",
    "- **Resources:**\n",
    "  - [Python Regular Expressions Official Docs](https://docs.python.org/3/library/re.html)\n",
    "  - [Regex101 - Online Regex Tester](https://regex101.com/) (for testing expressions)\n",
    "  - [Validating Email Addresses with Regex](https://www.geeksforgeeks.org/check-if-email-address-valid-or-not-in-python/)\n",
    "  - [Extracting Numbers from Text in Python](https://www.datacamp.com/tutorial/python-regular-expression-tutorial)"
   ]
  },
  {
   "cell_type": "code",
   "execution_count": 2,
   "metadata": {},
   "outputs": [
    {
     "data": {
      "text/html": [
       "<div>\n",
       "<style scoped>\n",
       "    .dataframe tbody tr th:only-of-type {\n",
       "        vertical-align: middle;\n",
       "    }\n",
       "\n",
       "    .dataframe tbody tr th {\n",
       "        vertical-align: top;\n",
       "    }\n",
       "\n",
       "    .dataframe thead th {\n",
       "        text-align: right;\n",
       "    }\n",
       "</style>\n",
       "<table border=\"1\" class=\"dataframe\">\n",
       "  <thead>\n",
       "    <tr style=\"text-align: right;\">\n",
       "      <th></th>\n",
       "      <th>Email_validation</th>\n",
       "      <th>Customer_Email</th>\n",
       "    </tr>\n",
       "  </thead>\n",
       "  <tbody>\n",
       "    <tr>\n",
       "      <th>0</th>\n",
       "      <td>Valid</td>\n",
       "      <td>amygreen@example.com</td>\n",
       "    </tr>\n",
       "    <tr>\n",
       "      <th>1</th>\n",
       "      <td>Valid</td>\n",
       "      <td>nicoleferguson@example.net</td>\n",
       "    </tr>\n",
       "    <tr>\n",
       "      <th>2</th>\n",
       "      <td>Valid</td>\n",
       "      <td>fergusonmatthew@example.net</td>\n",
       "    </tr>\n",
       "    <tr>\n",
       "      <th>3</th>\n",
       "      <td>Valid</td>\n",
       "      <td>williamsshirley@example.com</td>\n",
       "    </tr>\n",
       "    <tr>\n",
       "      <th>4</th>\n",
       "      <td>Valid</td>\n",
       "      <td>bondmitchell@example.org</td>\n",
       "    </tr>\n",
       "  </tbody>\n",
       "</table>\n",
       "</div>"
      ],
      "text/plain": [
       "  Email_validation               Customer_Email\n",
       "0            Valid         amygreen@example.com\n",
       "1            Valid   nicoleferguson@example.net\n",
       "2            Valid  fergusonmatthew@example.net\n",
       "3            Valid  williamsshirley@example.com\n",
       "4            Valid     bondmitchell@example.org"
      ]
     },
     "execution_count": 2,
     "metadata": {},
     "output_type": "execute_result"
    }
   ],
   "source": [
    "import pandas as pd\n",
    "\n",
    "#Exercice 2 use theses datasets:bank_transactions_data_2 AND fraud_detection_dataset.csv\n",
    "#Validate the e-mail address\n",
    "\n",
    "df_3 = pd.read_csv(\"fraud_detection_dataset.csv\")\n",
    "\n",
    "def isValide(email):\n",
    "    pattern = r\"^[a-zA-Z0-9_.+-]+@[a-zA-Z0-9-]+\\.[a-zA-Z0-9-.]+$\"\n",
    "    #email = \"user@example.com\"\n",
    "    return \"Valid\" if re.match(pattern, email) else \"Invalid\"\n",
    "\n",
    "df_3[\"Email_validation\"] = df_3[\"Customer_Email\"].apply(isValide)\n",
    "\n",
    "df_3[[\"Email_validation\",\"Customer_Email\"]].head()"
   ]
  },
  {
   "cell_type": "code",
   "execution_count": 3,
   "metadata": {},
   "outputs": [
    {
     "data": {
      "text/html": [
       "<div>\n",
       "<style scoped>\n",
       "    .dataframe tbody tr th:only-of-type {\n",
       "        vertical-align: middle;\n",
       "    }\n",
       "\n",
       "    .dataframe tbody tr th {\n",
       "        vertical-align: top;\n",
       "    }\n",
       "\n",
       "    .dataframe thead th {\n",
       "        text-align: right;\n",
       "    }\n",
       "</style>\n",
       "<table border=\"1\" class=\"dataframe\">\n",
       "  <thead>\n",
       "    <tr style=\"text-align: right;\">\n",
       "      <th></th>\n",
       "      <th>AccountID</th>\n",
       "      <th>AccountID(only number)</th>\n",
       "    </tr>\n",
       "  </thead>\n",
       "  <tbody>\n",
       "    <tr>\n",
       "      <th>0</th>\n",
       "      <td>AC00128</td>\n",
       "      <td>[00128]</td>\n",
       "    </tr>\n",
       "    <tr>\n",
       "      <th>1</th>\n",
       "      <td>AC00455</td>\n",
       "      <td>[00455]</td>\n",
       "    </tr>\n",
       "    <tr>\n",
       "      <th>2</th>\n",
       "      <td>AC00019</td>\n",
       "      <td>[00019]</td>\n",
       "    </tr>\n",
       "    <tr>\n",
       "      <th>3</th>\n",
       "      <td>AC00070</td>\n",
       "      <td>[00070]</td>\n",
       "    </tr>\n",
       "    <tr>\n",
       "      <th>4</th>\n",
       "      <td>AC00411</td>\n",
       "      <td>[00411]</td>\n",
       "    </tr>\n",
       "    <tr>\n",
       "      <th>...</th>\n",
       "      <td>...</td>\n",
       "      <td>...</td>\n",
       "    </tr>\n",
       "    <tr>\n",
       "      <th>2507</th>\n",
       "      <td>AC00297</td>\n",
       "      <td>[00297]</td>\n",
       "    </tr>\n",
       "    <tr>\n",
       "      <th>2508</th>\n",
       "      <td>AC00322</td>\n",
       "      <td>[00322]</td>\n",
       "    </tr>\n",
       "    <tr>\n",
       "      <th>2509</th>\n",
       "      <td>AC00095</td>\n",
       "      <td>[00095]</td>\n",
       "    </tr>\n",
       "    <tr>\n",
       "      <th>2510</th>\n",
       "      <td>AC00118</td>\n",
       "      <td>[00118]</td>\n",
       "    </tr>\n",
       "    <tr>\n",
       "      <th>2511</th>\n",
       "      <td>AC00009</td>\n",
       "      <td>[00009]</td>\n",
       "    </tr>\n",
       "  </tbody>\n",
       "</table>\n",
       "<p>2512 rows × 2 columns</p>\n",
       "</div>"
      ],
      "text/plain": [
       "     AccountID AccountID(only number)\n",
       "0      AC00128                [00128]\n",
       "1      AC00455                [00455]\n",
       "2      AC00019                [00019]\n",
       "3      AC00070                [00070]\n",
       "4      AC00411                [00411]\n",
       "...        ...                    ...\n",
       "2507   AC00297                [00297]\n",
       "2508   AC00322                [00322]\n",
       "2509   AC00095                [00095]\n",
       "2510   AC00118                [00118]\n",
       "2511   AC00009                [00009]\n",
       "\n",
       "[2512 rows x 2 columns]"
      ]
     },
     "execution_count": 3,
     "metadata": {},
     "output_type": "execute_result"
    }
   ],
   "source": [
    "#Extract all numeric values from account ID\n",
    "\n",
    "df_4 = pd.read_csv(\"bank_transactions_data_2.csv\")\n",
    "\n",
    "def isNumeric(ID):\n",
    "    pattern = r\"\\d+\"\n",
    "    a = re.findall(pattern,ID)\n",
    "    return a\n",
    "\n",
    "df_4[\"AccountID(only number)\"] = df_4[\"AccountID\"].apply(isNumeric)\n",
    "\n",
    "df_4[[\"AccountID\",\"AccountID(only number)\"]]"
   ]
  },
  {
   "cell_type": "markdown",
   "metadata": {},
   "source": [
    "### Exercise 3: Optimize the Algorithm\n",
    "- Improve fraud detection by incorporating past customer transaction history.\n",
    "- Implement an efficient way to flag repeated transactions within a short period.\n",
    "\n",
    "- **Topics:** Algorithm optimization, time complexity, transaction analysis\n",
    "- **Resources:**\n",
    "  - [Python Performance Optimization](https://realpython.com/python-performance/)\n",
    "  - [Big-O Notation for Algorithm Complexity](https://www.geeksforgeeks.org/analysis-of-algorithms-big-o-analysis/)\n",
    "  - [Efficient Transaction Processing Techniques](https://www.kaggle.com/learn/data-cleaning)"
   ]
  },
  {
   "cell_type": "code",
   "execution_count": null,
   "metadata": {},
   "outputs": [],
   "source": []
  },
  {
   "cell_type": "markdown",
   "metadata": {},
   "source": [
    "### Exercise 4: File Handling and Reporting\n",
    "- Generate a summary report of fraudulent transactions and save it to a JSON file.\n",
    "- Create a function that reads the JSON report and prints key insights.\n",
    "\n",
    "- **Topics:** File I/O, JSON handling, saving structured reports\n",
    "- **Resources:**\n",
    "  - [Python File Handling](https://realpython.com/read-write-files-python/)\n",
    "  - [Working with JSON in Python](https://realpython.com/python-json/)\n",
    "  - [Generating and Parsing Reports in Pandas](https://towardsdatascience.com/how-to-generate-reports-with-python-and-pandas-166fdfaf0df4)"
   ]
  },
  {
   "cell_type": "code",
   "execution_count": null,
   "metadata": {},
   "outputs": [],
   "source": []
  },
  {
   "cell_type": "markdown",
   "metadata": {},
   "source": [
    "### **Exercise 5: Improve Fraud Detection using Data Patterns**\n",
    "- **Topics:** Fraud detection, anomaly detection, historical analysis\n",
    "- **Resources:**\n",
    "  - [Introduction to Fraud Detection with Python](https://www.kaggle.com/datasets/ntnu-testimon/paysim1)\n",
    "  - [Scikit-learn Outlier Detection Techniques](https://scikit-learn.org/stable/modules/outlier_detection.html)\n",
    "  - [Building a Machine Learning-Based Fraud Detection System](https://towardsdatascience.com/credit-card-fraud-detection-using-machine-learning-726ed4e3b3af)\n",
    "  - [Anomaly Detection in Pandas](https://towardsdatascience.com/anomaly-detection-in-python-part-1-49b65b0522dc)\n"
   ]
  }
 ],
 "metadata": {
  "kernelspec": {
   "display_name": "class",
   "language": "python",
   "name": "python3"
  },
  "language_info": {
   "codemirror_mode": {
    "name": "ipython",
    "version": 3
   },
   "file_extension": ".py",
   "mimetype": "text/x-python",
   "name": "python",
   "nbconvert_exporter": "python",
   "pygments_lexer": "ipython3",
   "version": "3.12.3"
  }
 },
 "nbformat": 4,
 "nbformat_minor": 2
}
